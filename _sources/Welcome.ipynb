{
 "cells": [
  {
   "cell_type": "markdown",
   "metadata": {},
   "source": [
    "# Welcome"
   ]
  },
  {
   "cell_type": "markdown",
   "metadata": {},
   "source": [
    "## Linked Open Cultural Data \n",
    "\n",
    " \n",
    "\n",
    "# Introduction \n",
    "\n",
    " \n",
    "Welcome to this introductory course to ‘Linked Open Data’ in cultural heritage collections!\n",
    "\n",
    " \n",
    "Whether you are a student or scholar, librarian or archivist, museum curator or historian — or just curious — this course will help you understand what Linked Open Data is and why heritage collections are increasingly published as Linked Open Data on the Web.  \n",
    "\n",
    "The lessons in this course build upon each other, with the first course given a broad introduction of Linked Open Data and how it is used within the heritage field, followed by a session that is diving deeper into how to publish Linked Open Data and how to extract and analyse this data.  \n",
    "\n",
    "The Semantic Web is developing continuously, which makes this course timely. Therefore, this course is designed to focus mainly on the core principles of Linked Open Data. It aims for giving a basic understanding of what Linked Open data is and how it can benefit the heritage field.   \n",
    "\n",
    "It is possible to follow the three modules successively, but each module is set up in a way that it can also be completed as a separate entity. For students, this offers the opportunity to explore their topics of interest. For lecturers, this makes it possible to integrate one or more sessions within existing modules depending on how much time you can make available.  \n",
    " \n",
    " \n",
    "## Course overview \n",
    " \n",
    "\n",
    "This course consists of three parts: \n",
    "\n",
    " \n",
    "- Module 1: Basic principles This module will introduce you to the basic principles of Linked Open Data (LOD) and how LOD is applied in heritage institutions. \n",
    "\n",
    " \n",
    "- Module 2: Creating and publishing Linked Open Data This module focusses on how to create and publish data as LOD on the Web. Therefore, you will be introduced to the LDwizard and CLARIAH Data Legend tool ‘COW’. \n",
    "\n",
    " \n",
    "- Module 3: SPARQL queries To be able to retrieve and analyse Linked Open Data, you need to know how to build SPARQL queries. In this module, you will learn about SPARQL through example queries in Jupyter Notebooks and working with the Wiki query service.  \n",
    "\n",
    "  \n"
   ]
  },
  {
   "cell_type": "code",
   "execution_count": null,
   "metadata": {},
   "outputs": [],
   "source": []
  }
 ],
 "metadata": {
  "kernelspec": {
   "display_name": "Python 3 (ipykernel)",
   "language": "python",
   "name": "python3"
  },
  "language_info": {
   "codemirror_mode": {
    "name": "ipython",
    "version": 3
   },
   "file_extension": ".py",
   "mimetype": "text/x-python",
   "name": "python",
   "nbconvert_exporter": "python",
   "pygments_lexer": "ipython3",
   "version": "3.7.9"
  }
 },
 "nbformat": 4,
 "nbformat_minor": 2
}
