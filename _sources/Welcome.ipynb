{
 "cells": [
  {
   "cell_type": "markdown",
   "metadata": {},
   "source": [
    "# Welcome"
   ]
  },
  {
   "cell_type": "markdown",
   "metadata": {},
   "source": [
    "This website offers a basic and accessible introduction to programming in Python, aimed specifically at researchers and teachers without prior coding skills.\n",
    "\n",
    "The tutorials that you can follow on this website explain the core features of the Python programming language, including topics such as variables, data types and control structures. Additionally, you can learn learn about the main techniques that can be used to clean, enrich, analyse and visualise data.\n",
    "\n",
    "You can download all the notebooks written for this tutorial at the following address: \n",
    "\n",
    "[https://github.com/peterverhaar/python_tutorial/archive/refs/heads/main.zip](https://github.com/peterverhaar/python_tutorial/archive/refs/heads/main.zip)\n",
    "\n",
    "When you download and unzip this folder, make sure that you put the unzipped folder (*python_tutorial-master* by default) in a location that you can access from the Jupyter Notebook environment. Your home directory should be a good location.\n"
   ]
  },
  {
   "cell_type": "code",
   "execution_count": null,
   "metadata": {},
   "outputs": [],
   "source": []
  }
 ],
 "metadata": {
  "kernelspec": {
   "display_name": "Python 3",
   "language": "python",
   "name": "python3"
  },
  "language_info": {
   "codemirror_mode": {
    "name": "ipython",
    "version": 3
   },
   "file_extension": ".py",
   "mimetype": "text/x-python",
   "name": "python",
   "nbconvert_exporter": "python",
   "pygments_lexer": "ipython3",
   "version": "3.7.4"
  }
 },
 "nbformat": 4,
 "nbformat_minor": 2
}
